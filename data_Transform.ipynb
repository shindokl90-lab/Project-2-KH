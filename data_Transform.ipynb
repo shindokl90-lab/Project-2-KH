{
 "cells": [
  {
   "cell_type": "code",
   "execution_count": 1,
   "metadata": {},
   "outputs": [],
   "source": [
    "import pandas as pd"
   ]
  },
  {
   "cell_type": "markdown",
   "metadata": {
    "slideshow": {
     "slide_type": "-"
    }
   },
   "source": [
    "## Load raw school table"
   ]
  },
  {
   "cell_type": "code",
   "execution_count": 2,
   "metadata": {},
   "outputs": [
    {
     "data": {
      "text/html": [
       "<div>\n",
       "<style scoped>\n",
       "    .dataframe tbody tr th:only-of-type {\n",
       "        vertical-align: middle;\n",
       "    }\n",
       "\n",
       "    .dataframe tbody tr th {\n",
       "        vertical-align: top;\n",
       "    }\n",
       "\n",
       "    .dataframe thead th {\n",
       "        text-align: right;\n",
       "    }\n",
       "</style>\n",
       "<table border=\"1\" class=\"dataframe\">\n",
       "  <thead>\n",
       "    <tr style=\"text-align: right;\">\n",
       "      <th></th>\n",
       "      <th>name</th>\n",
       "      <th>rating</th>\n",
       "      <th>district</th>\n",
       "      <th>niche_grade</th>\n",
       "      <th>stu_number</th>\n",
       "      <th>ratio</th>\n",
       "    </tr>\n",
       "  </thead>\n",
       "  <tbody>\n",
       "    <tr>\n",
       "      <th>0</th>\n",
       "      <td>Meadow Glens Elementary School</td>\n",
       "      <td>#1 Best Public Elementary Schools in Chicago Area</td>\n",
       "      <td>Naperville Community Unit School District No. ...</td>\n",
       "      <td>grade A+</td>\n",
       "      <td>494</td>\n",
       "      <td>15:1</td>\n",
       "    </tr>\n",
       "    <tr>\n",
       "      <th>1</th>\n",
       "      <td>Barbara B. Rose Elementary School</td>\n",
       "      <td>#2 Best Public Elementary Schools in Chicago Area</td>\n",
       "      <td>Barrington Community Unit School District No. ...</td>\n",
       "      <td>grade A+</td>\n",
       "      <td>436</td>\n",
       "      <td>13:1</td>\n",
       "    </tr>\n",
       "    <tr>\n",
       "      <th>2</th>\n",
       "      <td>Grove Avenue Elementary School</td>\n",
       "      <td>#3 Best Public Elementary Schools in Chicago Area</td>\n",
       "      <td>Barrington Community Unit School District No. ...</td>\n",
       "      <td>grade A+</td>\n",
       "      <td>520</td>\n",
       "      <td>15:1</td>\n",
       "    </tr>\n",
       "    <tr>\n",
       "      <th>3</th>\n",
       "      <td>Ellsworth Elementary School</td>\n",
       "      <td>#4 Best Public Elementary Schools in Chicago Area</td>\n",
       "      <td>Naperville Community Unit School District No. ...</td>\n",
       "      <td>grade A+</td>\n",
       "      <td>258</td>\n",
       "      <td>14:1</td>\n",
       "    </tr>\n",
       "    <tr>\n",
       "      <th>4</th>\n",
       "      <td>Steeple Run Elementary School</td>\n",
       "      <td>#5 Best Public Elementary Schools in Chicago Area</td>\n",
       "      <td>Naperville Community Unit School District No. ...</td>\n",
       "      <td>grade A+</td>\n",
       "      <td>629</td>\n",
       "      <td>16:1</td>\n",
       "    </tr>\n",
       "  </tbody>\n",
       "</table>\n",
       "</div>"
      ],
      "text/plain": [
       "                                name  \\\n",
       "0     Meadow Glens Elementary School   \n",
       "1  Barbara B. Rose Elementary School   \n",
       "2     Grove Avenue Elementary School   \n",
       "3        Ellsworth Elementary School   \n",
       "4      Steeple Run Elementary School   \n",
       "\n",
       "                                              rating  \\\n",
       "0  #1 Best Public Elementary Schools in Chicago Area   \n",
       "1  #2 Best Public Elementary Schools in Chicago Area   \n",
       "2  #3 Best Public Elementary Schools in Chicago Area   \n",
       "3  #4 Best Public Elementary Schools in Chicago Area   \n",
       "4  #5 Best Public Elementary Schools in Chicago Area   \n",
       "\n",
       "                                            district niche_grade stu_number  \\\n",
       "0  Naperville Community Unit School District No. ...    grade A+        494   \n",
       "1  Barrington Community Unit School District No. ...    grade A+        436   \n",
       "2  Barrington Community Unit School District No. ...    grade A+        520   \n",
       "3  Naperville Community Unit School District No. ...    grade A+        258   \n",
       "4  Naperville Community Unit School District No. ...    grade A+        629   \n",
       "\n",
       "  ratio  \n",
       "0  15:1  \n",
       "1  13:1  \n",
       "2  15:1  \n",
       "3  14:1  \n",
       "4  16:1  "
      ]
     },
     "execution_count": 2,
     "metadata": {},
     "output_type": "execute_result"
    }
   ],
   "source": [
    "csv_file_1 = \"../Extract/top500_elementary_school.csv\"\n",
    "top500_elementary_school_df =pd.read_csv(csv_file_1).iloc[:, 1:]\n",
    "top500_elementary_school_df.head()"
   ]
  },
  {
   "cell_type": "markdown",
   "metadata": {},
   "source": [
    "## clean the district column"
   ]
  },
  {
   "cell_type": "code",
   "execution_count": 3,
   "metadata": {},
   "outputs": [],
   "source": [
    "top500_elementary_school_df['district'] = top500_elementary_school_df['district'].str.split(',').str[0]"
   ]
  },
  {
   "cell_type": "code",
   "execution_count": 4,
   "metadata": {
    "scrolled": true
   },
   "outputs": [
    {
     "name": "stdout",
     "output_type": "stream",
     "text": [
      "                                name  \\\n",
      "0     Meadow Glens Elementary School   \n",
      "1  Barbara B. Rose Elementary School   \n",
      "2     Grove Avenue Elementary School   \n",
      "3        Ellsworth Elementary School   \n",
      "4      Steeple Run Elementary School   \n",
      "\n",
      "                                              rating  \\\n",
      "0  #1 Best Public Elementary Schools in Chicago Area   \n",
      "1  #2 Best Public Elementary Schools in Chicago Area   \n",
      "2  #3 Best Public Elementary Schools in Chicago Area   \n",
      "3  #4 Best Public Elementary Schools in Chicago Area   \n",
      "4  #5 Best Public Elementary Schools in Chicago Area   \n",
      "\n",
      "                                            district niche_grade stu_number  \\\n",
      "0  Naperville Community Unit School District No. 203    grade A+        494   \n",
      "1  Barrington Community Unit School District No. 220    grade A+        436   \n",
      "2  Barrington Community Unit School District No. 220    grade A+        520   \n",
      "3  Naperville Community Unit School District No. 203    grade A+        258   \n",
      "4  Naperville Community Unit School District No. 203    grade A+        629   \n",
      "\n",
      "  ratio  \n",
      "0  15:1  \n",
      "1  13:1  \n",
      "2  15:1  \n",
      "3  14:1  \n",
      "4  16:1  \n"
     ]
    }
   ],
   "source": [
    "print(top500_elementary_school_df.head())"
   ]
  },
  {
   "cell_type": "code",
   "execution_count": 5,
   "metadata": {
    "scrolled": true
   },
   "outputs": [
    {
     "data": {
      "text/plain": [
       "Index(['name', 'rating', 'district', 'niche_grade', 'stu_number', 'ratio'], dtype='object')"
      ]
     },
     "execution_count": 5,
     "metadata": {},
     "output_type": "execute_result"
    }
   ],
   "source": [
    "top500_elementary_school_df.columns"
   ]
  },
  {
   "cell_type": "markdown",
   "metadata": {},
   "source": [
    "## check type of data in each column"
   ]
  },
  {
   "cell_type": "code",
   "execution_count": 6,
   "metadata": {},
   "outputs": [
    {
     "data": {
      "text/plain": [
       "name           object\n",
       "rating         object\n",
       "district       object\n",
       "niche_grade    object\n",
       "stu_number     object\n",
       "ratio          object\n",
       "dtype: object"
      ]
     },
     "execution_count": 6,
     "metadata": {},
     "output_type": "execute_result"
    }
   ],
   "source": [
    "top500_elementary_school_df.dtypes"
   ]
  },
  {
   "cell_type": "markdown",
   "metadata": {},
   "source": [
    "## convert student number to integer type"
   ]
  },
  {
   "cell_type": "code",
   "execution_count": 7,
   "metadata": {},
   "outputs": [],
   "source": [
    "top500_elementary_school_df['stu_number'] =  top500_elementary_school_df['stu_number'].str.replace(',','')\n",
    "top500_elementary_school_df['stu_number'] =top500_elementary_school_df['stu_number'].astype(int)"
   ]
  },
  {
   "cell_type": "code",
   "execution_count": 8,
   "metadata": {},
   "outputs": [
    {
     "data": {
      "text/plain": [
       "name           object\n",
       "rating         object\n",
       "district       object\n",
       "niche_grade    object\n",
       "stu_number      int64\n",
       "ratio          object\n",
       "dtype: object"
      ]
     },
     "execution_count": 8,
     "metadata": {},
     "output_type": "execute_result"
    }
   ],
   "source": [
    "top500_elementary_school_df.dtypes"
   ]
  },
  {
   "cell_type": "markdown",
   "metadata": {},
   "source": [
    "## Export clean table"
   ]
  },
  {
   "cell_type": "code",
   "execution_count": 9,
   "metadata": {},
   "outputs": [],
   "source": [
    "top500_elementary_school_df.to_csv('top500_elementary_school_clean.csv')"
   ]
  },
  {
   "cell_type": "code",
   "execution_count": 10,
   "metadata": {
    "scrolled": true
   },
   "outputs": [
    {
     "data": {
      "text/html": [
       "<div>\n",
       "<style scoped>\n",
       "    .dataframe tbody tr th:only-of-type {\n",
       "        vertical-align: middle;\n",
       "    }\n",
       "\n",
       "    .dataframe tbody tr th {\n",
       "        vertical-align: top;\n",
       "    }\n",
       "\n",
       "    .dataframe thead th {\n",
       "        text-align: right;\n",
       "    }\n",
       "</style>\n",
       "<table border=\"1\" class=\"dataframe\">\n",
       "  <thead>\n",
       "    <tr style=\"text-align: right;\">\n",
       "      <th></th>\n",
       "      <th>name</th>\n",
       "      <th>rating</th>\n",
       "      <th>city</th>\n",
       "      <th>niche_grade</th>\n",
       "      <th>number_school</th>\n",
       "      <th>number_student</th>\n",
       "    </tr>\n",
       "  </thead>\n",
       "  <tbody>\n",
       "    <tr>\n",
       "      <th>0</th>\n",
       "      <td>Adlai E. Stevenson High School District No. 125</td>\n",
       "      <td>#1 Best School Districts in Chicago Area</td>\n",
       "      <td>LINCOLNSHIRE, IL</td>\n",
       "      <td>grade A+</td>\n",
       "      <td>2</td>\n",
       "      <td>4,271</td>\n",
       "    </tr>\n",
       "    <tr>\n",
       "      <th>1</th>\n",
       "      <td>Community High School District 128</td>\n",
       "      <td>#2 Best School Districts in Chicago Area</td>\n",
       "      <td>VERNON HILLS, IL</td>\n",
       "      <td>grade A+</td>\n",
       "      <td>2</td>\n",
       "      <td>3,287</td>\n",
       "    </tr>\n",
       "    <tr>\n",
       "      <th>2</th>\n",
       "      <td>New Trier Township High School District No. 203</td>\n",
       "      <td>#3 Best School Districts in Chicago Area</td>\n",
       "      <td>NORTHFIELD, IL</td>\n",
       "      <td>grade A+</td>\n",
       "      <td>2</td>\n",
       "      <td>4,040</td>\n",
       "    </tr>\n",
       "    <tr>\n",
       "      <th>3</th>\n",
       "      <td>Glenbrook High Schools District 225</td>\n",
       "      <td>#4 Best School Districts in Chicago Area</td>\n",
       "      <td>GLENVIEW, IL</td>\n",
       "      <td>grade A+</td>\n",
       "      <td>4</td>\n",
       "      <td>5,201</td>\n",
       "    </tr>\n",
       "    <tr>\n",
       "      <th>4</th>\n",
       "      <td>Township High School District No. 113</td>\n",
       "      <td>#5 Best School Districts in Chicago Area</td>\n",
       "      <td>HIGHLAND PARK, IL</td>\n",
       "      <td>grade A+</td>\n",
       "      <td>2</td>\n",
       "      <td>3,467</td>\n",
       "    </tr>\n",
       "  </tbody>\n",
       "</table>\n",
       "</div>"
      ],
      "text/plain": [
       "                                              name  \\\n",
       "0  Adlai E. Stevenson High School District No. 125   \n",
       "1               Community High School District 128   \n",
       "2  New Trier Township High School District No. 203   \n",
       "3              Glenbrook High Schools District 225   \n",
       "4            Township High School District No. 113   \n",
       "\n",
       "                                     rating               city niche_grade  \\\n",
       "0  #1 Best School Districts in Chicago Area   LINCOLNSHIRE, IL    grade A+   \n",
       "1  #2 Best School Districts in Chicago Area   VERNON HILLS, IL    grade A+   \n",
       "2  #3 Best School Districts in Chicago Area     NORTHFIELD, IL    grade A+   \n",
       "3  #4 Best School Districts in Chicago Area       GLENVIEW, IL    grade A+   \n",
       "4  #5 Best School Districts in Chicago Area  HIGHLAND PARK, IL    grade A+   \n",
       "\n",
       "   number_school number_student  \n",
       "0              2          4,271  \n",
       "1              2          3,287  \n",
       "2              2          4,040  \n",
       "3              4          5,201  \n",
       "4              2          3,467  "
      ]
     },
     "execution_count": 10,
     "metadata": {},
     "output_type": "execute_result"
    }
   ],
   "source": [
    "csv_file_2 = \"../Extract/top50_school_district.csv\"\n",
    "top50_school_district_df = pd.read_csv(csv_file_2).iloc[:, 1:]\n",
    "top50_school_district_df.head()"
   ]
  },
  {
   "cell_type": "markdown",
   "metadata": {},
   "source": [
    "## convert student number to integer type"
   ]
  },
  {
   "cell_type": "code",
   "execution_count": 11,
   "metadata": {},
   "outputs": [],
   "source": [
    "top50_school_district_df['number_student'] = top50_school_district_df['number_student'].str.replace(',','')\n",
    "top50_school_district_df['number_student'] = top50_school_district_df['number_student'].astype(int)"
   ]
  },
  {
   "cell_type": "code",
   "execution_count": 12,
   "metadata": {},
   "outputs": [
    {
     "data": {
      "text/plain": [
       "name              object\n",
       "rating            object\n",
       "city              object\n",
       "niche_grade       object\n",
       "number_school      int64\n",
       "number_student     int64\n",
       "dtype: object"
      ]
     },
     "execution_count": 12,
     "metadata": {},
     "output_type": "execute_result"
    }
   ],
   "source": [
    "top50_school_district_df.dtypes"
   ]
  },
  {
   "cell_type": "markdown",
   "metadata": {},
   "source": [
    "## Export clean table"
   ]
  },
  {
   "cell_type": "code",
   "execution_count": 13,
   "metadata": {},
   "outputs": [],
   "source": [
    "top50_school_district_df.to_csv('top50_school_district_clean.csv')"
   ]
  }
 ],
 "metadata": {
  "kernelspec": {
   "display_name": "Python 3",
   "language": "python",
   "name": "python3"
  },
  "language_info": {
   "codemirror_mode": {
    "name": "ipython",
    "version": 3
   },
   "file_extension": ".py",
   "mimetype": "text/x-python",
   "name": "python",
   "nbconvert_exporter": "python",
   "pygments_lexer": "ipython3",
   "version": "3.9.5"
  },
  "nteract": {
   "version": "0.12.3"
  }
 },
 "nbformat": 4,
 "nbformat_minor": 2
}
